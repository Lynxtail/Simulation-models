{
 "cells": [
  {
   "cell_type": "markdown",
   "metadata": {},
   "source": [
    "## Нужные в этом тяжёлом деле (и не очень) библиотеки и модули"
   ]
  },
  {
   "cell_type": "code",
   "execution_count": 4,
   "metadata": {},
   "outputs": [],
   "source": [
    "import numpy as np\n",
    "import random\n",
    "from math import log, prod \n",
    "import simpy\n",
    "import pandas\n",
    "import scipy.stats\n",
    "import statsmodels "
   ]
  },
  {
   "cell_type": "markdown",
   "metadata": {},
   "source": [
    "## Генерация случайной величины\n",
    "Экспоненциальное распределение с вводимым параметром lambda"
   ]
  },
  {
   "cell_type": "code",
   "execution_count": 30,
   "metadata": {},
   "outputs": [
    {
     "name": "stdout",
     "output_type": "stream",
     "text": [
      "0.08751553621397293,     -0.09630415889285317\n",
      "-0.09287133313818126,     -0.09120593558848397\n",
      "0.24697356333172363,     -0.04977272474396176\n",
      "0.11238752301460928,     0.1926848352550752\n",
      "0.014013031340297022,     0.024908515084732297\n",
      "\n",
      "0.13732829810413735\n",
      "5.993473330779972\n",
      "\n",
      "-0.20833791121167078\n",
      "-1.6180189004839174\n",
      "\n",
      "0\n"
     ]
    }
   ],
   "source": [
    "lambda_ = 6.0\n",
    "k = 1\n",
    "std = 0\n",
    "random.seed(1111)\n",
    "# Экспоненциальное\n",
    "[print(f'{(-log(random.random()) / lambda_) - (1 / lambda_)}, \\\n",
    "    {random.expovariate(lambda_) - 1 / lambda_}') for _ in range(5)]\n",
    "# print(random.expovariate(lambda_))\n",
    "print()\n",
    "# Эрланга\n",
    "tmp = lambda_ / k \n",
    "print(-log(prod([random.random() for _ in range(k)])) / tmp)\n",
    "# имеет два параметра: альфа (k) и бета\n",
    "print(random.gammavariate(k, lambda_))\n",
    "print()\n",
    "# нормальное\n",
    "lambda_ = 0\n",
    "k = 1\n",
    "std = 1\n",
    "tmp = lambda_ + std * (sum([random.random() for _ in range(12)]) - 6)\n",
    "print(tmp)\n",
    "if tmp < 0: tmp = 0.001\n",
    "print(random.normalvariate(lambda_, std))\n",
    "print()\n",
    "# постоянная величина\n",
    "print(lambda_)"
   ]
  },
  {
   "cell_type": "markdown",
   "metadata": {},
   "source": [
    "## Простой процесс на simpy"
   ]
  },
  {
   "cell_type": "code",
   "execution_count": 7,
   "metadata": {},
   "outputs": [
    {
     "name": "stdout",
     "output_type": "stream",
     "text": [
      "Start parking at 0\n",
      "Start driving at 5\n",
      "Start parking at 7\n",
      "Start driving at 12\n",
      "Start parking at 14\n"
     ]
    }
   ],
   "source": [
    "def car(env):\n",
    "    while True:\n",
    "        print(f'Start parking at {env.now}')\n",
    "        parking_duration = 5\n",
    "        yield env.timeout(parking_duration)\n",
    "\n",
    "        print(f'Start driving at {env.now}')\n",
    "        trip_duration = 2\n",
    "        yield env.timeout(trip_duration)\n",
    "\n",
    "env = simpy.Environment()\n",
    "env.process(car(env))\n",
    "env.run(until=15)"
   ]
  },
  {
   "cell_type": "markdown",
   "metadata": {},
   "source": [
    "## Запуск подпроцесса charge после парковки"
   ]
  },
  {
   "cell_type": "code",
   "execution_count": 8,
   "metadata": {},
   "outputs": [
    {
     "name": "stdout",
     "output_type": "stream",
     "text": [
      "3042991530496 Start parking and charging at 0\n",
      "3042991530448 Start parking and charging at 0\n",
      "3042991530496 Start driving at 5\n",
      "3042991530448 Start driving at 5\n",
      "3042991530496 Start parking and charging at 7\n",
      "3042991530448 Start parking and charging at 7\n",
      "3042991530496 Start driving at 12\n",
      "3042991530448 Start driving at 12\n",
      "3042991530496 Start parking and charging at 14\n",
      "3042991530448 Start parking and charging at 14\n"
     ]
    }
   ],
   "source": [
    "class Car(object):\n",
    "    def __init__(self, env):\n",
    "        self.env = env\n",
    "        # Start the run process everytime an instance is created.\n",
    "        self.action = env.process(self.run())\n",
    "\n",
    "    def run(self):\n",
    "        while True:\n",
    "            print(f'{id(self)} Start parking and charging at {self.env.now}')\n",
    "            charge_duration = 5\n",
    "            # We yield the process that process() returns\n",
    "            # to wait for it to finish\n",
    "            yield self.env.process(self.charge(charge_duration))\n",
    "\n",
    "            # The charge process has finished and\n",
    "            # we can start driving again.\n",
    "            print(f'{id(self)} Start driving at {self.env.now}')\n",
    "            trip_duration = 2\n",
    "            yield self.env.timeout(trip_duration)\n",
    "\n",
    "    def charge(self, duration):\n",
    "        yield self.env.timeout(duration)\n",
    "\n",
    "env = simpy.Environment()\n",
    "car_1 = Car(env)\n",
    "car_2 = Car(env)\n",
    "env.run(until=15)"
   ]
  },
  {
   "cell_type": "markdown",
   "metadata": {},
   "source": [
    "## Прерывание другого процесса"
   ]
  },
  {
   "cell_type": "code",
   "execution_count": 9,
   "metadata": {},
   "outputs": [
    {
     "name": "stdout",
     "output_type": "stream",
     "text": [
      "3042991526752 Start parking and charging at 0\n",
      "3042991529104 Start parking and charging at 0\n",
      "3042991526752 Was interrupted. Hope, the battery is full enough ...\n",
      "3042991526752 Start driving at 3\n",
      "3042991526752 Start parking and charging at 5\n",
      "3042991529104 Start driving at 5\n",
      "3042991529104 Start parking and charging at 7\n",
      "3042991526752 Start driving at 10\n",
      "3042991526752 Start parking and charging at 12\n",
      "3042991529104 Start driving at 12\n",
      "3042991529104 Start parking and charging at 14\n"
     ]
    }
   ],
   "source": [
    "class Car(object):\n",
    "    def __init__(self, env):\n",
    "        self.env = env\n",
    "        # Start the run process everytime an instance is created.\n",
    "        self.action = env.process(self.run())\n",
    "\n",
    "    def run(self):\n",
    "        while True:\n",
    "            print(f'{id(self)} Start parking and charging at {self.env.now}')\n",
    "            charge_duration = 5\n",
    "            # We may get interrupted while charging the battery\n",
    "            try:\n",
    "                yield self.env.process(self.charge(charge_duration))\n",
    "            except simpy.Interrupt:\n",
    "                # When we received an interrupt, we stop charging and\n",
    "                # switch to the \"driving\" state\n",
    "                print(f'{id(self)} Was interrupted. Hope, the battery is full enough ...')\n",
    "\n",
    "            # The charge process has finished and\n",
    "            # we can start driving again.\n",
    "            print(f'{id(self)} Start driving at {self.env.now}')\n",
    "            trip_duration = 2\n",
    "            yield self.env.timeout(trip_duration)\n",
    "\n",
    "    def charge(self, duration):\n",
    "        yield self.env.timeout(duration)\n",
    "\n",
    "\n",
    "def driver(env, car):\n",
    "    yield env.timeout(3)\n",
    "    car.action.interrupt()\n",
    "\n",
    "env = simpy.Environment()\n",
    "car_1 = Car(env)\n",
    "car_2 = Car(env)\n",
    "env.process(driver(env, car_1))\n",
    "env.run(until=15)"
   ]
  },
  {
   "cell_type": "markdown",
   "metadata": {},
   "source": [
    "## Использование ресурсов\n",
    "Добавляется устройство обслуживания с ёмкостью 2.\n",
    "Машины 1 и 2 начинают обслуживаться сразу же по прибытии, а 3 и 4 ожидают освобождения слотов для обслуживания."
   ]
  },
  {
   "cell_type": "code",
   "execution_count": 10,
   "metadata": {},
   "outputs": [
    {
     "name": "stdout",
     "output_type": "stream",
     "text": [
      "Car 1 arriving at 0\n",
      "Car 1 starting to charge at 0\n",
      "Car 2 arriving at 2\n",
      "Car 2 starting to charge at 2\n",
      "Car 3 arriving at 4\n",
      "Car 1 leaving the bcs at 5\n",
      "Car 3 starting to charge at 5\n",
      "Car 4 arriving at 6\n",
      "Car 2 leaving the bcs at 7\n",
      "Car 4 starting to charge at 7\n",
      "Car 3 leaving the bcs at 10\n",
      "Car 4 leaving the bcs at 12\n"
     ]
    }
   ],
   "source": [
    "def car(env, name, bcs, driving_time, charge_duration):\n",
    "    # Simulate driving to the BCS\n",
    "    yield env.timeout(driving_time)\n",
    "    # Request one of its charging spots\n",
    "    print(f'{name} arriving at {env.now}')\n",
    "    with bcs.request() as req:\n",
    "        yield req\n",
    "        # Charge the battery\n",
    "        print(f'{name} starting to charge at {env.now}')\n",
    "        yield env.timeout(charge_duration)\n",
    "        print(f'{name} leaving the bcs at {env.now}')\n",
    "\n",
    "env = simpy.Environment()\n",
    "bcs = simpy.Resource(env, capacity=2)\n",
    "for i in range(4):\n",
    "    env.process(car(env, f'Car {i+1}', bcs, i*2, 5))\n",
    "env.run()"
   ]
  },
  {
   "cell_type": "markdown",
   "metadata": {},
   "source": [
    "## Пример с банком\n",
    "В банке есть сотрудники, обслуживающие клиентов, и терминалы, выдающие талоны. Есть, соответственно два процесса: выдача талона и обслуживание клиента. "
   ]
  },
  {
   "cell_type": "code",
   "execution_count": 11,
   "metadata": {},
   "outputs": [],
   "source": [
    "class Bank(object):\n",
    "    def __init__(self, env, num_employee, num_terminal):\n",
    "        self.env = env\n",
    "        self.employee = simpy.Resource(env, num_employee)\n",
    "        self.terminal = simpy.Resource(env, num_terminal)\n",
    "\n",
    "    def service(self, customer):\n",
    "    # Обслуживание занимает время в интервале от 1 до 15 минут\n",
    "        yield self.env.timeout(rd.randint(1, 15))\n",
    "\n",
    "    def take_token(self, customer):\n",
    "    # Получение талона занимает до 45 секунд\n",
    "        yield self.env.timeout(45/60)"
   ]
  },
  {
   "cell_type": "markdown",
   "metadata": {},
   "source": [
    "Создадим функцию, которая будет отвечать за поведение клиента в среде:"
   ]
  },
  {
   "cell_type": "code",
   "execution_count": 12,
   "metadata": {},
   "outputs": [],
   "source": [
    "def go_to_bank(env, customer, bank):\n",
    "\t# Клиент пришел в банк\n",
    "\tarrival_time = env.now\n",
    "\t\n",
    "\twith bank.terminal.request() as request:\n",
    "\t\tyield request\n",
    "\t\tyield env.process(bank.take_token(customer))\n",
    "\n",
    "\twith bank.employee.request() as request:\n",
    "\t\tyield request\n",
    "\t\tyield env.process(bank.service(customer))\n",
    "\n",
    "\tglobal times\n",
    "\ttimes.append(env.now - arrival_time)"
   ]
  },
  {
   "cell_type": "markdown",
   "metadata": {},
   "source": [
    "Теперь необходимо создать функцию для запуска моделирования. Она будет отвечать за создание экземпляра банка и генерацию клиентов, до тех пор, пока симуляция не остановится:"
   ]
  },
  {
   "cell_type": "code",
   "execution_count": 13,
   "metadata": {},
   "outputs": [],
   "source": [
    "def run_bank(env, num_employee, num_terminal):\n",
    "\tbank = Bank(env, num_employee, num_terminal)\n",
    "\tcustomer = 1\n",
    "\t\n",
    "\tenv.process(go_to_bank(env, customer, bank))\n",
    "\t\n",
    "\twhile True:\n",
    "\t\t# Предположим каждые 4 минуты заходит новый клиент\n",
    "\t\tyield env.timeout(rd.expovariate(1.0 / 240))\n",
    "\t\tcustomer += 1\n",
    "\t\tenv.process(go_to_bank(env, customer, bank))"
   ]
  },
  {
   "cell_type": "markdown",
   "metadata": {},
   "source": [
    "Отдельно создадим функцию для подсчета среднего времени:"
   ]
  },
  {
   "cell_type": "code",
   "execution_count": 14,
   "metadata": {},
   "outputs": [],
   "source": [
    "def get_average_time(times):\n",
    "\taverage_time = np.mean(times)\n",
    "\tminutes, frac_minutes = divmod(average_time, 1)\n",
    "\tseconds = frac_minutes * 60\n",
    "\treturn round(minutes), round(seconds)"
   ]
  },
  {
   "cell_type": "markdown",
   "metadata": {},
   "source": [
    "Запустим моделирование:"
   ]
  },
  {
   "cell_type": "code",
   "execution_count": 15,
   "metadata": {},
   "outputs": [
    {
     "ename": "NameError",
     "evalue": "name 'rd' is not defined",
     "output_type": "error",
     "traceback": [
      "\u001b[1;31m---------------------------------------------------------------------------\u001b[0m",
      "\u001b[1;31mNameError\u001b[0m                                 Traceback (most recent call last)",
      "\u001b[1;32me:\\NoCode\\AirportSimModel\\misc.ipynb Cell 22'\u001b[0m in \u001b[0;36m<cell line: 1>\u001b[1;34m()\u001b[0m\n\u001b[1;32m----> <a href='vscode-notebook-cell:/e%3A/NoCode/AirportSimModel/misc.ipynb#ch0000021?line=0'>1</a>\u001b[0m rd\u001b[39m.\u001b[39mseed(\u001b[39m42\u001b[39m)\n\u001b[0;32m      <a href='vscode-notebook-cell:/e%3A/NoCode/AirportSimModel/misc.ipynb#ch0000021?line=1'>2</a>\u001b[0m \u001b[39m# Начальные данные\u001b[39;00m\n\u001b[0;32m      <a href='vscode-notebook-cell:/e%3A/NoCode/AirportSimModel/misc.ipynb#ch0000021?line=2'>3</a>\u001b[0m num_employee \u001b[39m=\u001b[39m \u001b[39m7\u001b[39m \u001b[39m# В офисе работает 7 сотрудников\u001b[39;00m\n",
      "\u001b[1;31mNameError\u001b[0m: name 'rd' is not defined"
     ]
    }
   ],
   "source": [
    "rd.seed(42)\n",
    "# Начальные данные\n",
    "num_employee = 7 # В офисе работает 7 сотрудников\n",
    "num_terminal = 1 # В офисе 1 терминал по выдаче талонов\n",
    "times = []\n",
    "\n",
    "# Запуск моделирования\n",
    "env = simpy.Environment()\n",
    "env.process(run_bank(env, num_employee, num_terminal))\n",
    "env.run(until=72)\n",
    "\n",
    "# Результаты\n",
    "mins, secs = get_average_time(times)\n",
    "print(f'\\nСреднее время обслуживания: {mins}:{secs}')"
   ]
  },
  {
   "cell_type": "markdown",
   "metadata": {},
   "source": [
    "## СМО M/M/1"
   ]
  },
  {
   "cell_type": "code",
   "execution_count": 22,
   "metadata": {},
   "outputs": [],
   "source": [
    "class System(object):\n",
    "    def __init__(self, env, num_services, mu):\n",
    "        self.env = env\n",
    "        self.server = simpy.Resource(env, num_services)\n",
    "        self.mu = mu\n",
    "\n",
    "    def service(self, demand):\n",
    "        # yield self.env.timeout(rd.expovariate(self.mu))\n",
    "        yield self.env.timeout(env.now - log(random.random()) / mu)\n",
    "        global cnt_demands\n",
    "        cnt_demands.append(self.server.count - 1)\n",
    "        print(f'Требование {demand} обслужено в {self.env.now}')"
   ]
  },
  {
   "cell_type": "code",
   "execution_count": 23,
   "metadata": {},
   "outputs": [],
   "source": [
    "def go_to_system(env, demand, system):\n",
    "\t# требование пришло в систему\n",
    "\tarrival_time = env.now\n",
    "\t\n",
    "\twith system.server.request() as request:\n",
    "\t\tyield request\n",
    "\t\tyield env.process(system.service(demand))\n",
    "\n",
    "\tglobal times\n",
    "\ttimes.append(env.now - arrival_time)"
   ]
  },
  {
   "cell_type": "code",
   "execution_count": 24,
   "metadata": {},
   "outputs": [],
   "source": [
    "def generate(env, lambda_, demand):\n",
    "    try:\n",
    "        yield env.timeout(env.now - log(random.random()) / lambda_)\n",
    "        demand += 1\n",
    "        print(f'Требование {demand} поступило в {env.now}')\n",
    "    except simpy.Interrupt:\n",
    "        print(f'Генерирование прервано в {env.now}')"
   ]
  },
  {
   "cell_type": "code",
   "execution_count": 27,
   "metadata": {},
   "outputs": [],
   "source": [
    "def run_system(env, num_services, lambda_, mu):\n",
    "\tsystem = System(env, num_services, mu)\n",
    "\tdemand = 1\n",
    "\tprint(f'Требование {demand} поступило в {env.now}')\n",
    "\tenv.process(go_to_system(env, demand, system))\n",
    "\tglobal cnt_demands\n",
    "\tcnt_demands.append(system.server.count + 1)\n",
    "\t\n",
    "\twhile True:\n",
    "\t\tgenerator = env.process(generate(env, lambda_, demand))\n",
    "\t\tgenerator_acivate = env.event()\n",
    "\t\tcnt_demands.append(system.server.count + 1)\n",
    "\t\tserver = env.process(go_to_system(env, demand, system))\n",
    "\t\tserver_acivate = env.event()"
   ]
  },
  {
   "cell_type": "code",
   "execution_count": 28,
   "metadata": {},
   "outputs": [
    {
     "name": "stdout",
     "output_type": "stream",
     "text": [
      "Требование 1 поступило в 0\n"
     ]
    },
    {
     "ename": "KeyboardInterrupt",
     "evalue": "",
     "output_type": "error",
     "traceback": [
      "\u001b[1;31m---------------------------------------------------------------------------\u001b[0m",
      "\u001b[1;31mKeyboardInterrupt\u001b[0m                         Traceback (most recent call last)",
      "\u001b[1;32me:\\NoCode\\AirportSimModel\\misc.ipynb Cell 28'\u001b[0m in \u001b[0;36m<cell line: 4>\u001b[1;34m()\u001b[0m\n\u001b[0;32m     <a href='vscode-notebook-cell:/e%3A/NoCode/AirportSimModel/misc.ipynb#ch0000026?line=11'>12</a>\u001b[0m \u001b[39m# Запуск моделирования\u001b[39;00m\n\u001b[0;32m     <a href='vscode-notebook-cell:/e%3A/NoCode/AirportSimModel/misc.ipynb#ch0000026?line=12'>13</a>\u001b[0m env \u001b[39m=\u001b[39m simpy\u001b[39m.\u001b[39mEnvironment()\n\u001b[1;32m---> <a href='vscode-notebook-cell:/e%3A/NoCode/AirportSimModel/misc.ipynb#ch0000026?line=13'>14</a>\u001b[0m env\u001b[39m.\u001b[39mprocess(run_system(env, num_services, lambda_, mu))\n\u001b[0;32m     <a href='vscode-notebook-cell:/e%3A/NoCode/AirportSimModel/misc.ipynb#ch0000026?line=14'>15</a>\u001b[0m env\u001b[39m.\u001b[39mrun(until\u001b[39m=\u001b[39m\u001b[39m10\u001b[39m\u001b[39m*\u001b[39m\u001b[39m*\u001b[39m\u001b[39m6\u001b[39m)\n\u001b[0;32m     <a href='vscode-notebook-cell:/e%3A/NoCode/AirportSimModel/misc.ipynb#ch0000026?line=16'>17</a>\u001b[0m \u001b[39m# Результаты\u001b[39;00m\n",
      "\u001b[1;32me:\\NoCode\\AirportSimModel\\misc.ipynb Cell 27'\u001b[0m in \u001b[0;36mrun_system\u001b[1;34m(env, num_services, lambda_, mu)\u001b[0m\n\u001b[0;32m     <a href='vscode-notebook-cell:/e%3A/NoCode/AirportSimModel/misc.ipynb#ch0000025?line=10'>11</a>\u001b[0m cnt_demands\u001b[39m.\u001b[39mappend(system\u001b[39m.\u001b[39mserver\u001b[39m.\u001b[39mcount \u001b[39m+\u001b[39m \u001b[39m1\u001b[39m)\n\u001b[0;32m     <a href='vscode-notebook-cell:/e%3A/NoCode/AirportSimModel/misc.ipynb#ch0000025?line=11'>12</a>\u001b[0m generator\u001b[39m.\u001b[39minterrupt(\u001b[39m'\u001b[39m\u001b[39m'\u001b[39m)\n\u001b[1;32m---> <a href='vscode-notebook-cell:/e%3A/NoCode/AirportSimModel/misc.ipynb#ch0000025?line=12'>13</a>\u001b[0m env\u001b[39m.\u001b[39;49mprocess(go_to_system(env, demand, system))\n",
      "File \u001b[1;32mc:\\Users\\Admin\\AppData\\Local\\Programs\\Python\\Python310\\lib\\site-packages\\simpy\\events.py:348\u001b[0m, in \u001b[0;36mProcess.__init__\u001b[1;34m(self, env, generator)\u001b[0m\n\u001b[0;32m    <a href='file:///c%3A/Users/Admin/AppData/Local/Programs/Python/Python310/lib/site-packages/simpy/events.py?line=344'>345</a>\u001b[0m \u001b[39mself\u001b[39m\u001b[39m.\u001b[39m_generator \u001b[39m=\u001b[39m generator\n\u001b[0;32m    <a href='file:///c%3A/Users/Admin/AppData/Local/Programs/Python/Python310/lib/site-packages/simpy/events.py?line=346'>347</a>\u001b[0m \u001b[39m# Schedule the start of the execution of the process.\u001b[39;00m\n\u001b[1;32m--> <a href='file:///c%3A/Users/Admin/AppData/Local/Programs/Python/Python310/lib/site-packages/simpy/events.py?line=347'>348</a>\u001b[0m \u001b[39mself\u001b[39m\u001b[39m.\u001b[39m_target: Event \u001b[39m=\u001b[39m Initialize(env, \u001b[39mself\u001b[39;49m)\n",
      "File \u001b[1;32mc:\\Users\\Admin\\AppData\\Local\\Programs\\Python\\Python310\\lib\\site-packages\\simpy\\events.py:265\u001b[0m, in \u001b[0;36mInitialize.__init__\u001b[1;34m(self, env, process)\u001b[0m\n\u001b[0;32m    <a href='file:///c%3A/Users/Admin/AppData/Local/Programs/Python/Python310/lib/site-packages/simpy/events.py?line=260'>261</a>\u001b[0m \u001b[39m# The initialization events needs to be scheduled as urgent so that it\u001b[39;00m\n\u001b[0;32m    <a href='file:///c%3A/Users/Admin/AppData/Local/Programs/Python/Python310/lib/site-packages/simpy/events.py?line=261'>262</a>\u001b[0m \u001b[39m# will be handled before interrupts. Otherwise a process whose\u001b[39;00m\n\u001b[0;32m    <a href='file:///c%3A/Users/Admin/AppData/Local/Programs/Python/Python310/lib/site-packages/simpy/events.py?line=262'>263</a>\u001b[0m \u001b[39m# generator has not yet been started could be interrupted.\u001b[39;00m\n\u001b[0;32m    <a href='file:///c%3A/Users/Admin/AppData/Local/Programs/Python/Python310/lib/site-packages/simpy/events.py?line=263'>264</a>\u001b[0m \u001b[39mself\u001b[39m\u001b[39m.\u001b[39m_ok \u001b[39m=\u001b[39m \u001b[39mTrue\u001b[39;00m\n\u001b[1;32m--> <a href='file:///c%3A/Users/Admin/AppData/Local/Programs/Python/Python310/lib/site-packages/simpy/events.py?line=264'>265</a>\u001b[0m env\u001b[39m.\u001b[39;49mschedule(\u001b[39mself\u001b[39;49m, URGENT)\n",
      "File \u001b[1;32mc:\\Users\\Admin\\AppData\\Local\\Programs\\Python\\Python310\\lib\\site-packages\\simpy\\core.py:165\u001b[0m, in \u001b[0;36mEnvironment.schedule\u001b[1;34m(self, event, priority, delay)\u001b[0m\n\u001b[0;32m    <a href='file:///c%3A/Users/Admin/AppData/Local/Programs/Python/Python310/lib/site-packages/simpy/core.py?line=161'>162</a>\u001b[0m     all_of \u001b[39m=\u001b[39m BoundClass(AllOf)\n\u001b[0;32m    <a href='file:///c%3A/Users/Admin/AppData/Local/Programs/Python/Python310/lib/site-packages/simpy/core.py?line=162'>163</a>\u001b[0m     any_of \u001b[39m=\u001b[39m BoundClass(AnyOf)\n\u001b[1;32m--> <a href='file:///c%3A/Users/Admin/AppData/Local/Programs/Python/Python310/lib/site-packages/simpy/core.py?line=164'>165</a>\u001b[0m \u001b[39mdef\u001b[39;00m \u001b[39mschedule\u001b[39m(\n\u001b[0;32m    <a href='file:///c%3A/Users/Admin/AppData/Local/Programs/Python/Python310/lib/site-packages/simpy/core.py?line=165'>166</a>\u001b[0m     \u001b[39mself\u001b[39m,\n\u001b[0;32m    <a href='file:///c%3A/Users/Admin/AppData/Local/Programs/Python/Python310/lib/site-packages/simpy/core.py?line=166'>167</a>\u001b[0m     event: Event,\n\u001b[0;32m    <a href='file:///c%3A/Users/Admin/AppData/Local/Programs/Python/Python310/lib/site-packages/simpy/core.py?line=167'>168</a>\u001b[0m     priority: EventPriority \u001b[39m=\u001b[39m NORMAL,\n\u001b[0;32m    <a href='file:///c%3A/Users/Admin/AppData/Local/Programs/Python/Python310/lib/site-packages/simpy/core.py?line=168'>169</a>\u001b[0m     delay: SimTime \u001b[39m=\u001b[39m \u001b[39m0\u001b[39m,\n\u001b[0;32m    <a href='file:///c%3A/Users/Admin/AppData/Local/Programs/Python/Python310/lib/site-packages/simpy/core.py?line=169'>170</a>\u001b[0m ) \u001b[39m-\u001b[39m\u001b[39m>\u001b[39m \u001b[39mNone\u001b[39;00m:\n\u001b[0;32m    <a href='file:///c%3A/Users/Admin/AppData/Local/Programs/Python/Python310/lib/site-packages/simpy/core.py?line=170'>171</a>\u001b[0m     \u001b[39m\"\"\"Schedule an *event* with a given *priority* and a *delay*.\"\"\"\u001b[39;00m\n\u001b[0;32m    <a href='file:///c%3A/Users/Admin/AppData/Local/Programs/Python/Python310/lib/site-packages/simpy/core.py?line=171'>172</a>\u001b[0m     heappush(\u001b[39mself\u001b[39m\u001b[39m.\u001b[39m_queue,\n\u001b[0;32m    <a href='file:///c%3A/Users/Admin/AppData/Local/Programs/Python/Python310/lib/site-packages/simpy/core.py?line=172'>173</a>\u001b[0m              (\u001b[39mself\u001b[39m\u001b[39m.\u001b[39m_now \u001b[39m+\u001b[39m delay, priority, \u001b[39mnext\u001b[39m(\u001b[39mself\u001b[39m\u001b[39m.\u001b[39m_eid), event))\n",
      "\u001b[1;31mKeyboardInterrupt\u001b[0m: "
     ]
    }
   ],
   "source": [
    "cnt = 1\n",
    "all_times = []\n",
    "all_demands = []\n",
    "for _ in range(cnt):\n",
    "    # Начальные данные\n",
    "    num_services = 2 # число приборов\n",
    "    lambda_ = 1\n",
    "    mu = 2\n",
    "    times = []\n",
    "    cnt_demands = []\n",
    "\n",
    "    # Запуск моделирования\n",
    "    env = simpy.Environment()\n",
    "    env.process(run_system(env, num_services, lambda_, mu))\n",
    "    env.run(until=10**6)\n",
    "\n",
    "    # Результаты\n",
    "    average_time = np.mean(times)\n",
    "    print(f'\\nСреднее время обслуживания: {average_time}')\n",
    "    average_cnt = np.mean(cnt_demands)\n",
    "    print(cnt_demands)\n",
    "    print(f'Число требований в системе: {average_cnt}')\n",
    "    all_times.append(average_time)\n",
    "    all_demands.append(average_cnt)\n",
    "print(np.mean(all_times))\n",
    "print(np.mean(all_demands))"
   ]
  },
  {
   "cell_type": "code",
   "execution_count": null,
   "metadata": {},
   "outputs": [
    {
     "name": "stdout",
     "output_type": "stream",
     "text": [
      "1 2 \n",
      " 1555982079536 1555982089760\n",
      "3 2 \n",
      " 1556264903840 1555982089760\n"
     ]
    }
   ],
   "source": [
    "class First:\n",
    "    def __init__(self, id):\n",
    "        self.id = id\n",
    "\n",
    "first = First(1)\n",
    "second = First(2)\n",
    "\n",
    "print(first.id, second.id, '\\n', id(first), id(second))\n",
    "\n",
    "first = First(3)\n",
    "print(first.id, second.id, '\\n', id(first), id(second))"
   ]
  },
  {
   "cell_type": "code",
   "execution_count": null,
   "metadata": {},
   "outputs": [],
   "source": [
    "f = open('out.txt', 'a')\n",
    "f.write('abc')\n",
    "f.close()\n",
    "f = open('out.txt', 'a')\n",
    "f.write('I ate your string')\n",
    "f.close()"
   ]
  },
  {
   "cell_type": "code",
   "execution_count": null,
   "metadata": {},
   "outputs": [
    {
     "name": "stdout",
     "output_type": "stream",
     "text": [
      "some shit happens\n",
      "some shit happens\n",
      "\n",
      "but we must stand\n"
     ]
    }
   ],
   "source": [
    "f = open('test.txt', 'w')\n",
    "f.write('some shit happens')\n",
    "f.close()\n",
    "f = open('test.txt', 'r')\n",
    "for line in f:\n",
    "    print(line)\n",
    "f.close()\n",
    "\n",
    "f = open('test.txt', 'a')\n",
    "f.write('\\nbut we must stand')\n",
    "f.close()\n",
    "f = open('test.txt', 'r')\n",
    "for line in f:\n",
    "    print(line)\n",
    "f.close()"
   ]
  },
  {
   "cell_type": "code",
   "execution_count": null,
   "metadata": {},
   "outputs": [
    {
     "ename": "NameError",
     "evalue": "name 'QtWidgets' is not defined",
     "output_type": "error",
     "traceback": [
      "\u001b[1;31m---------------------------------------------------------------------------\u001b[0m",
      "\u001b[1;31mNameError\u001b[0m                                 Traceback (most recent call last)",
      "\u001b[1;32me:\\NoCode\\AirportSimModel\\misc.ipynb Cell 31'\u001b[0m in \u001b[0;36m<cell line: 1>\u001b[1;34m()\u001b[0m\n\u001b[0;32m      <a href='vscode-notebook-cell:/e%3A/NoCode/AirportSimModel/misc.ipynb#ch0000030?line=0'>1</a>\u001b[0m \u001b[39mif\u001b[39;00m \u001b[39m__name__\u001b[39m \u001b[39m==\u001b[39m \u001b[39m\"\u001b[39m\u001b[39m__main__\u001b[39m\u001b[39m\"\u001b[39m:\n\u001b[0;32m      <a href='vscode-notebook-cell:/e%3A/NoCode/AirportSimModel/misc.ipynb#ch0000030?line=1'>2</a>\u001b[0m     \u001b[39mimport\u001b[39;00m \u001b[39msys\u001b[39;00m\n\u001b[1;32m----> <a href='vscode-notebook-cell:/e%3A/NoCode/AirportSimModel/misc.ipynb#ch0000030?line=2'>3</a>\u001b[0m     app \u001b[39m=\u001b[39m QtWidgets\u001b[39m.\u001b[39mQApplication(sys\u001b[39m.\u001b[39margv)\n\u001b[0;32m      <a href='vscode-notebook-cell:/e%3A/NoCode/AirportSimModel/misc.ipynb#ch0000030?line=3'>4</a>\u001b[0m     MainWindow \u001b[39m=\u001b[39m QtWidgets\u001b[39m.\u001b[39mQMainWindow()\n\u001b[0;32m      <a href='vscode-notebook-cell:/e%3A/NoCode/AirportSimModel/misc.ipynb#ch0000030?line=4'>5</a>\u001b[0m     ui \u001b[39m=\u001b[39m Ui_MainWindow()\n",
      "\u001b[1;31mNameError\u001b[0m: name 'QtWidgets' is not defined"
     ]
    }
   ],
   "source": [
    "if __name__ == \"__main__\":\n",
    "    import sys\n",
    "    app = QtWidgets.QApplication(sys.argv)\n",
    "    MainWindow = QtWidgets.QMainWindow()\n",
    "    ui = Ui_MainWindow()\n",
    "    ui.setupUi(MainWindow)\n",
    "    MainWindow.show()\n",
    "    sys.exit(app.exec())"
   ]
  },
  {
   "cell_type": "code",
   "execution_count": null,
   "metadata": {},
   "outputs": [
    {
     "data": {
      "text/plain": [
       "[1, 2]"
      ]
     },
     "execution_count": 3,
     "metadata": {},
     "output_type": "execute_result"
    }
   ],
   "source": [
    "a = [1, 2, 3, 4]\n",
    "a[:2]"
   ]
  },
  {
   "cell_type": "code",
   "execution_count": 31,
   "metadata": {},
   "outputs": [
    {
     "name": "stdout",
     "output_type": "stream",
     "text": [
      "dsfg 6 sdfsd 2\n"
     ]
    }
   ],
   "source": [
    "a = [1, 2, 6, 9]\n",
    "for item in a:\n",
    "    if item == 6:\n",
    "        ind = a.index(item)\n",
    "print(f'dsfg {a[ind]} sdfsd {ind}')"
   ]
  },
  {
   "cell_type": "code",
   "execution_count": null,
   "metadata": {},
   "outputs": [],
   "source": []
  }
 ],
 "metadata": {
  "interpreter": {
   "hash": "a42ccb73e7d9bfdf27e036f1d2b8b681e55fc0743cc5586bc2474d4a60f4b886"
  },
  "kernelspec": {
   "display_name": "Python 3.10.4 64-bit",
   "language": "python",
   "name": "python3"
  },
  "language_info": {
   "codemirror_mode": {
    "name": "ipython",
    "version": 3
   },
   "file_extension": ".py",
   "mimetype": "text/x-python",
   "name": "python",
   "nbconvert_exporter": "python",
   "pygments_lexer": "ipython3",
   "version": "3.10.4"
  },
  "orig_nbformat": 4
 },
 "nbformat": 4,
 "nbformat_minor": 2
}
